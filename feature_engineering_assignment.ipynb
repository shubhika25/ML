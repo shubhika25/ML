{
 "cells": [
  {
   "cell_type": "markdown",
   "id": "8fcbf2f3",
   "metadata": {},
   "source": [
    "### Q1. What is a parameter?"
   ]
  },
  {
   "cell_type": "markdown",
   "id": "c0e6ed6c",
   "metadata": {},
   "source": [
    "A **parameter** is an internal variable in a model that is learned from the training data. \n",
    "For example, in linear regression `y = wx + b`, the slope `w` and intercept `b` are parameters learned by minimizing the loss function."
   ]
  },
  {
   "cell_type": "markdown",
   "id": "6c8a326c",
   "metadata": {},
   "source": [
    "### Q2. What is correlation?"
   ]
  },
  {
   "cell_type": "markdown",
   "id": "07ae7c33",
   "metadata": {},
   "source": [
    "**Correlation** is a statistical measure that describes the strength and direction of the relationship between two variables. \n",
    "It ranges from -1 to +1. A value close to 1 means strong positive relation, close to -1 means strong negative relation, and near 0 means no relation."
   ]
  },
  {
   "cell_type": "markdown",
   "id": "17f3e144",
   "metadata": {},
   "source": [
    "### What does negative correlation mean?"
   ]
  },
  {
   "cell_type": "markdown",
   "id": "f6a47dc9",
   "metadata": {},
   "source": [
    "**Negative correlation** means that as one variable increases, the other decreases. \n",
    "Example: hours of exercise per week and body fat percentage usually have a negative correlation."
   ]
  },
  {
   "cell_type": "markdown",
   "id": "11b556ca",
   "metadata": {},
   "source": [
    "### Q3. Define Machine Learning. What are the main components in Machine Learning?"
   ]
  },
  {
   "cell_type": "markdown",
   "id": "6ff7bc54",
   "metadata": {},
   "source": [
    "**Machine Learning** is the field of study that gives computers the ability to learn from data without being explicitly programmed.  \n",
    "**Main components**:  \n",
    "- Data  \n",
    "- Features  \n",
    "- Model  \n",
    "- Loss function  \n",
    "- Optimization algorithm  \n",
    "- Evaluation metrics"
   ]
  },
  {
   "cell_type": "markdown",
   "id": "fc991752",
   "metadata": {},
   "source": [
    "### Q4. How does loss value help in determining whether the model is good or not?"
   ]
  },
  {
   "cell_type": "markdown",
   "id": "f6d8cd0f",
   "metadata": {},
   "source": [
    "The **loss value** quantifies how far the model's predictions are from the actual labels. \n",
    "A lower loss means a better model. It guides optimization during training."
   ]
  },
  {
   "cell_type": "markdown",
   "id": "9b6606f5",
   "metadata": {},
   "source": [
    "### Q5. What are continuous and categorical variables?"
   ]
  },
  {
   "cell_type": "markdown",
   "id": "394fc739",
   "metadata": {},
   "source": [
    "**Continuous variables**: Numeric values that can take any real number within a range (e.g., height, weight).  \n",
    "**Categorical variables**: Values that represent categories or groups (e.g., gender, country)."
   ]
  },
  {
   "cell_type": "markdown",
   "id": "6e0ec2cb",
   "metadata": {},
   "source": [
    "### Q6. How do we handle categorical variables in Machine Learning? What are the common techniques?"
   ]
  },
  {
   "cell_type": "markdown",
   "id": "8753b9bd",
   "metadata": {},
   "source": [
    "Handling categorical variables:  \n",
    "- **Label Encoding**: Assigns numbers to categories.  \n",
    "- **One-Hot Encoding**: Creates binary columns for each category.  \n",
    "- **Target Encoding**: Replaces categories with mean of target variable."
   ]
  },
  {
   "cell_type": "markdown",
   "id": "fb1f42d8",
   "metadata": {},
   "source": [
    "### Q7. What do you mean by training and testing a dataset?"
   ]
  },
  {
   "cell_type": "markdown",
   "id": "4c9c7d96",
   "metadata": {},
   "source": [
    "**Training dataset**: Used to fit the model.  \n",
    "**Testing dataset**: Used to evaluate the model performance on unseen data."
   ]
  },
  {
   "cell_type": "markdown",
   "id": "34f96943",
   "metadata": {},
   "source": [
    "### Q8. What is sklearn.preprocessing?"
   ]
  },
  {
   "cell_type": "markdown",
   "id": "8118578e",
   "metadata": {},
   "source": [
    "`sklearn.preprocessing` is a module in scikit-learn that provides methods for preprocessing data such as scaling, encoding categorical features, normalization, etc."
   ]
  },
  {
   "cell_type": "markdown",
   "id": "732ed218",
   "metadata": {},
   "source": [
    "### Q9. What is a Test set?"
   ]
  },
  {
   "cell_type": "markdown",
   "id": "ff2b4af0",
   "metadata": {},
   "source": [
    "A **test set** is a portion of the dataset kept aside to evaluate how well the trained model generalizes to new, unseen data."
   ]
  },
  {
   "cell_type": "markdown",
   "id": "219f3151",
   "metadata": {},
   "source": [
    "### Q10. How do we split data for model fitting (training and testing) in Python?"
   ]
  },
  {
   "cell_type": "markdown",
   "id": "7019d5a8",
   "metadata": {},
   "source": [
    "In Python, we split data using `train_test_split` from `sklearn.model_selection`.  \n",
    "Example:  \n",
    "```python\n",
    "from sklearn.model_selection import train_test_split\n",
    "X_train, X_test, y_train, y_test = train_test_split(X, y, test_size=0.2, random_state=42)\n",
    "```"
   ]
  },
  {
   "cell_type": "markdown",
   "id": "6b9114c9",
   "metadata": {},
   "source": [
    " How do you approach a Machine Learning problem?"
   ]
  },
  {
   "cell_type": "markdown",
   "id": "caf53dd5",
   "metadata": {},
   "source": [
    "Steps to approach an ML problem:  \n",
    "1. Define the problem  \n",
    "2. Collect and preprocess data  \n",
    "3. Perform EDA  \n",
    "4. Feature engineering  \n",
    "5. Select a model  \n",
    "6. Train the model  \n",
    "7. Evaluate the model  \n",
    "8. Deploy and monitor"
   ]
  },
  {
   "cell_type": "markdown",
   "id": "aa59e522",
   "metadata": {},
   "source": [
    "### Q11. Why do we have to perform EDA before fitting a model to the data?"
   ]
  },
  {
   "cell_type": "markdown",
   "id": "1c20d271",
   "metadata": {},
   "source": [
    "EDA (Exploratory Data Analysis) is done to understand the dataset, detect patterns, missing values, outliers, and relationships before fitting a model. \n",
    "It ensures better feature engineering and model selection."
   ]
  },
  {
   "cell_type": "markdown",
   "id": "fda7613e",
   "metadata": {},
   "source": [
    "### Q12. What is correlation?"
   ]
  },
  {
   "cell_type": "markdown",
   "id": "88841cfe",
   "metadata": {},
   "source": [
    "Correlation is already defined above. It measures the relationship between variables."
   ]
  },
  {
   "cell_type": "markdown",
   "id": "ed8c01cd",
   "metadata": {},
   "source": [
    "### Q13. What does negative correlation mean?"
   ]
  },
  {
   "cell_type": "markdown",
   "id": "faadfb06",
   "metadata": {},
   "source": [
    "Negative correlation is already defined above. It indicates an inverse relationship between two variables."
   ]
  },
  {
   "cell_type": "markdown",
   "id": "3d1deaf3",
   "metadata": {},
   "source": [
    "### Q14 How can you find correlation between variables in Python?"
   ]
  },
  {
   "cell_type": "markdown",
   "id": "5a425948",
   "metadata": {},
   "source": [
    "In Python, correlation can be computed using Pandas:  \n",
    "```python\n",
    "import pandas as pd\n",
    "df.corr()\n",
    "```  \n",
    "Or specifically between two variables:  \n",
    "```python\n",
    "df['x'].corr(df['y'])\n",
    "```"
   ]
  },
  {
   "cell_type": "markdown",
   "id": "cbe7f08b",
   "metadata": {},
   "source": [
    "### Q15. What is causation? Explain difference between correlation and causation with an example."
   ]
  },
  {
   "cell_type": "markdown",
   "id": "6454d68a",
   "metadata": {},
   "source": [
    "**Causation** means that changes in one variable directly cause changes in another.  \n",
    "**Difference**: Correlation only shows association, not cause-effect.  \n",
    "Example: Ice cream sales and drowning cases are correlated (both rise in summer), but eating ice cream does not cause drowning (causation is heat)."
   ]
  },
  {
   "cell_type": "markdown",
   "id": "b6d729dc",
   "metadata": {},
   "source": [
    "### Q16. What is an Optimizer? What are different types of optimizers? Explain each with an example."
   ]
  },
  {
   "cell_type": "markdown",
   "id": "3f140141",
   "metadata": {},
   "source": [
    "**Optimizer** is an algorithm that adjusts parameters of a model to minimize loss.  \n",
    "Types:  \n",
    "- **SGD** (Stochastic Gradient Descent)  \n",
    "- **Adam** (adaptive learning rate)  \n",
    "- **RMSprop** (uses moving average of squared gradients)  \n",
    "- **Adagrad** (adapts learning rate based on frequency of updates)"
   ]
  },
  {
   "cell_type": "markdown",
   "id": "725ec04b",
   "metadata": {},
   "source": [
    "### Q17. What is sklearn.linear_model ?"
   ]
  },
  {
   "cell_type": "markdown",
   "id": "3d4e1c1c",
   "metadata": {},
   "source": [
    "`sklearn.linear_model` is a module in scikit-learn that provides linear models such as Linear Regression, Logistic Regression, Ridge, Lasso, etc."
   ]
  },
  {
   "cell_type": "markdown",
   "id": "f99e5f73",
   "metadata": {},
   "source": [
    "### Q18. What does model.fit() do? What arguments must be given?"
   ]
  },
  {
   "cell_type": "markdown",
   "id": "4599fffc",
   "metadata": {},
   "source": [
    "`model.fit(X, y)` trains the model on features `X` and target `y`.  \n",
    "Arguments: training data and labels."
   ]
  },
  {
   "cell_type": "markdown",
   "id": "31eb5b33",
   "metadata": {},
   "source": [
    "### Q19. What does model.predict() do? What arguments must be given?"
   ]
  },
  {
   "cell_type": "markdown",
   "id": "b8f8d03b",
   "metadata": {},
   "source": [
    "`model.predict(X)` predicts outcomes for new feature data `X`.  \n",
    "Arguments: input features only."
   ]
  },
  {
   "cell_type": "markdown",
   "id": "5f9a174d",
   "metadata": {},
   "source": [
    "### Q20. What are continuous and categorical variables?"
   ]
  },
  {
   "cell_type": "markdown",
   "id": "1547f9b1",
   "metadata": {},
   "source": [
    "Continuous and categorical variables definition is same as above."
   ]
  },
  {
   "cell_type": "markdown",
   "id": "a4aa64e4",
   "metadata": {},
   "source": [
    "### Q21. What is feature scaling? How does it help in Machine Learning?"
   ]
  },
  {
   "cell_type": "markdown",
   "id": "011008ee",
   "metadata": {},
   "source": [
    "**Feature scaling** is transforming features to a similar scale.  \n",
    "Helps ML algorithms converge faster and perform better (especially gradient descent, distance-based models)."
   ]
  },
  {
   "cell_type": "markdown",
   "id": "1300e6da",
   "metadata": {},
   "source": [
    "### Q22. How do we perform scaling in Python?"
   ]
  },
  {
   "cell_type": "markdown",
   "id": "0566217f",
   "metadata": {},
   "source": [
    "Scaling in Python using sklearn:  \n",
    "```python\n",
    "from sklearn.preprocessing import StandardScaler, MinMaxScaler\n",
    "\n",
    "scaler = StandardScaler()\n",
    "X_scaled = scaler.fit_transform(X)\n",
    "```"
   ]
  },
  {
   "cell_type": "markdown",
   "id": "3d92054b",
   "metadata": {},
   "source": [
    "### Q23. What is sklearn.preprocessing?"
   ]
  },
  {
   "cell_type": "markdown",
   "id": "390adf51",
   "metadata": {},
   "source": [
    "`sklearn.preprocessing` is a module for scaling, encoding, normalization etc (already defined above)."
   ]
  },
  {
   "cell_type": "markdown",
   "id": "b56dccd4",
   "metadata": {},
   "source": [
    "### Q24. How do we split data for model fitting (training and testing) in Python?"
   ]
  },
  {
   "cell_type": "markdown",
   "id": "ffd9d86f",
   "metadata": {},
   "source": [
    "Data splitting example in Python:  \n",
    "```python\n",
    "from sklearn.model_selection import train_test_split\n",
    "X_train, X_test, y_train, y_test = train_test_split(X, y, test_size=0.25, random_state=0)\n",
    "```"
   ]
  },
  {
   "cell_type": "markdown",
   "id": "00606821",
   "metadata": {},
   "source": [
    "### Q25. Explain data encoding?"
   ]
  },
  {
   "cell_type": "markdown",
   "id": "e220c743",
   "metadata": {},
   "source": [
    "**Data encoding**: Converting categorical variables into numerical format so ML models can use them.  \n",
    "Techniques:  \n",
    "- Label Encoding  \n",
    "- One-Hot Encoding  \n",
    "- Ordinal Encoding  \n",
    "- Target Encoding"
   ]
  }
 ],
 "metadata": {
  "language_info": {
   "name": "python"
  }
 },
 "nbformat": 4,
 "nbformat_minor": 5
}
